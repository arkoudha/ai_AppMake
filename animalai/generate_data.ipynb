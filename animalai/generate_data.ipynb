{
 "cells": [
  {
   "cell_type": "code",
   "execution_count": 18,
   "metadata": {},
   "outputs": [
    {
     "name": "stdout",
     "output_type": "stream",
     "text": [
      "['./monkey\\\\11620674466.jpg', './monkey\\\\11807060196.jpg', './monkey\\\\11946631145.jpg', './monkey\\\\127460113.jpg', './monkey\\\\1286194734.jpg', './monkey\\\\129708053.jpg', './monkey\\\\131293434.jpg', './monkey\\\\131417914.jpg', './monkey\\\\13350152035.jpg', './monkey\\\\13953825142.jpg', './monkey\\\\14150278520.jpg', './monkey\\\\14257979085.jpg', './monkey\\\\14269895483.jpg', './monkey\\\\14733149136.jpg', './monkey\\\\14753807884.jpg', './monkey\\\\14857728659.jpg', './monkey\\\\14989430064.jpg', './monkey\\\\15169975483.jpg', './monkey\\\\15204986357.jpg', './monkey\\\\15266939210.jpg', './monkey\\\\15425119770.jpg', './monkey\\\\15455494856.jpg', './monkey\\\\15471499533.jpg', './monkey\\\\15608003931.jpg', './monkey\\\\15719688805.jpg', './monkey\\\\15794801433.jpg', './monkey\\\\15978360150.jpg', './monkey\\\\16067937347.jpg', './monkey\\\\162844553.jpg', './monkey\\\\16683535032.jpg', './monkey\\\\16827992692.jpg', './monkey\\\\1696487349.jpg', './monkey\\\\170282425.jpg', './monkey\\\\172271964.jpg', './monkey\\\\17267384053.jpg', './monkey\\\\199081230.jpg', './monkey\\\\2081791806.jpg', './monkey\\\\2151970315.jpg', './monkey\\\\2151970317.jpg', './monkey\\\\223951607.jpg', './monkey\\\\2333207300.jpg', './monkey\\\\2351015947.jpg', './monkey\\\\2422920620.jpg', './monkey\\\\249719619.jpg', './monkey\\\\2647672871.jpg', './monkey\\\\2649249942.jpg', './monkey\\\\26691814071.jpg', './monkey\\\\2759140036.jpg', './monkey\\\\28030327173.jpg', './monkey\\\\2804225588.jpg', './monkey\\\\282342078.jpg', './monkey\\\\2842891901.jpg', './monkey\\\\2931393048.jpg', './monkey\\\\297887549.jpg', './monkey\\\\300256004.jpg', './monkey\\\\3009403469.jpg', './monkey\\\\310485310.jpg', './monkey\\\\31792860601.jpg', './monkey\\\\326941142.jpg', './monkey\\\\3316644163.jpg', './monkey\\\\3317885569.jpg', './monkey\\\\33831127941.jpg', './monkey\\\\34214344265.jpg', './monkey\\\\3441574126.jpg', './monkey\\\\3441639035.jpg', './monkey\\\\346843660.jpg', './monkey\\\\3482515719.jpg', './monkey\\\\3483331796.jpg', './monkey\\\\3499135412.jpg', './monkey\\\\3526391498.jpg', './monkey\\\\3572283917.jpg', './monkey\\\\3581333646.jpg', './monkey\\\\3585361333.jpg', './monkey\\\\3613125213.jpg', './monkey\\\\3689772083.jpg', './monkey\\\\381487953.jpg', './monkey\\\\384921014.jpg', './monkey\\\\3862378111.jpg', './monkey\\\\3883144374.jpg', './monkey\\\\3979848154.jpg', './monkey\\\\4139263957.jpg', './monkey\\\\4156806171.jpg', './monkey\\\\427418568.jpg', './monkey\\\\4327395477.jpg', './monkey\\\\4334626527.jpg', './monkey\\\\4339530861.jpg', './monkey\\\\439684948.jpg', './monkey\\\\4411349798.jpg', './monkey\\\\4456423367.jpg', './monkey\\\\4510726665.jpg', './monkey\\\\46568135954.jpg', './monkey\\\\492702301.jpg', './monkey\\\\4944165891.jpg', './monkey\\\\4953417418.jpg', './monkey\\\\5123737038.jpg', './monkey\\\\5161259161.jpg', './monkey\\\\518166632.jpg', './monkey\\\\5260441239.jpg', './monkey\\\\5325975065.jpg', './monkey\\\\5331673522.jpg', './monkey\\\\5339649580.jpg', './monkey\\\\5366577711.jpg', './monkey\\\\5522543310.jpg', './monkey\\\\5538803397.jpg', './monkey\\\\5557438582.jpg', './monkey\\\\5585270023.jpg', './monkey\\\\5604910922.jpg', './monkey\\\\5609749722.jpg', './monkey\\\\5610331.jpg', './monkey\\\\5729666377.jpg', './monkey\\\\5742527167.jpg', './monkey\\\\6001344309.jpg', './monkey\\\\6058496580.jpg', './monkey\\\\6082685027.jpg', './monkey\\\\6086618821.jpg', './monkey\\\\6171728129.jpg', './monkey\\\\6219548110.jpg', './monkey\\\\6222403968.jpg', './monkey\\\\6238351071.jpg', './monkey\\\\6277409509.jpg', './monkey\\\\6279431975.jpg', './monkey\\\\6279436999.jpg', './monkey\\\\6280007860.jpg', './monkey\\\\6301608241.jpg', './monkey\\\\6322249896.jpg', './monkey\\\\6327314171.jpg', './monkey\\\\6359234649.jpg', './monkey\\\\6591019733.jpg', './monkey\\\\6675235941.jpg', './monkey\\\\6750154129.jpg', './monkey\\\\6793645992.jpg', './monkey\\\\6806290974.jpg', './monkey\\\\6812919243.jpg', './monkey\\\\6816176646.jpg', './monkey\\\\6846606196.jpg', './monkey\\\\6846612242.jpg', './monkey\\\\6855808029.jpg', './monkey\\\\6878446684.jpg', './monkey\\\\6917433850.jpg', './monkey\\\\6933678734.jpg', './monkey\\\\6933679236.jpg', './monkey\\\\6938912701.jpg', './monkey\\\\6939746657.jpg', './monkey\\\\6952523619.jpg', './monkey\\\\7009053111.jpg', './monkey\\\\7079749315.jpg', './monkey\\\\7079749619.jpg', './monkey\\\\7092790137.jpg', './monkey\\\\7124895845.jpg', './monkey\\\\7208558114.jpg', './monkey\\\\7216675972.jpg', './monkey\\\\7219166842.jpg', './monkey\\\\7219193674.jpg', './monkey\\\\7388933710.jpg', './monkey\\\\7465276708.jpg', './monkey\\\\7495791286.jpg', './monkey\\\\75356879.jpg', './monkey\\\\7867605276.jpg', './monkey\\\\7999302978.jpg', './monkey\\\\8003175621.jpg', './monkey\\\\8003180867.jpg', './monkey\\\\8003182593.jpg', './monkey\\\\8084181225.jpg', './monkey\\\\81052243.jpg', './monkey\\\\8111420772.jpg', './monkey\\\\8375031394.jpg', './monkey\\\\8464198413.jpg', './monkey\\\\8517204185.jpg', './monkey\\\\8575303023.jpg', './monkey\\\\8616497950.jpg', './monkey\\\\8619295538.jpg', './monkey\\\\8644620996.jpg', './monkey\\\\8664055611.jpg', './monkey\\\\8688783013.jpg', './monkey\\\\8689909732.jpg', './monkey\\\\8699598628.jpg', './monkey\\\\8729467502.jpg', './monkey\\\\8737702021.jpg', './monkey\\\\877722921.jpg', './monkey\\\\8898715031.jpg', './monkey\\\\8898720059.jpg', './monkey\\\\9119623380.jpg', './monkey\\\\9191138545.jpg', './monkey\\\\9193936150.jpg', './monkey\\\\9223428665.jpg', './monkey\\\\92349664.jpg', './monkey\\\\9290921614.jpg', './monkey\\\\9314068341.jpg', './monkey\\\\9412826969.jpg', './monkey\\\\985271990.jpg', './monkey\\\\9879489.jpg']\n",
      "['./boar\\\\1012948664.jpg', './boar\\\\107658675.jpg', './boar\\\\10782307746.jpg', './boar\\\\11304402983.jpg', './boar\\\\11456518836.jpg', './boar\\\\12272982865.jpg', './boar\\\\124173436.jpg', './boar\\\\12674068154.jpg', './boar\\\\13565906034.jpg', './boar\\\\13918812580.jpg', './boar\\\\1412041305.jpg', './boar\\\\141640678.jpg', './boar\\\\142050638.jpg', './boar\\\\14358462868.jpg', './boar\\\\14794536237.jpg', './boar\\\\14813834439.jpg', './boar\\\\14833645992.jpg', './boar\\\\14943982525.jpg', './boar\\\\14958089776.jpg', './boar\\\\14977996221.jpg', './boar\\\\1504794457.jpg', './boar\\\\15396708529.jpg', './boar\\\\15451829034.jpg', './boar\\\\15540410678.jpg', './boar\\\\15649695641.jpg', './boar\\\\16423472210.jpg', './boar\\\\16711907317.jpg', './boar\\\\16964956071.jpg', './boar\\\\186744620.jpg', './boar\\\\19773879.jpg', './boar\\\\2121930285.jpg', './boar\\\\2192727938.jpg', './boar\\\\2251354565.jpg', './boar\\\\2251354571.jpg', './boar\\\\225196279.jpg', './boar\\\\2273031558.jpg', './boar\\\\2280210005.jpg', './boar\\\\23221838873.jpg', './boar\\\\23774996062.jpg', './boar\\\\24367332376.jpg', './boar\\\\25239705.jpg', './boar\\\\25638474808.jpg', './boar\\\\25692807588.jpg', './boar\\\\2578620988.jpg', './boar\\\\2617353101.jpg', './boar\\\\2617356263.jpg', './boar\\\\2621282595.jpg', './boar\\\\26347021015.jpg', './boar\\\\26426854173.jpg', './boar\\\\26462288578.jpg', './boar\\\\26484202398.jpg', './boar\\\\2664911020.jpg', './boar\\\\26710721998.jpg', './boar\\\\26773794547.jpg', './boar\\\\267953864.jpg', './boar\\\\27184314462.jpg', './boar\\\\2774933308.jpg', './boar\\\\27919978667.jpg', './boar\\\\28144645199.jpg', './boar\\\\2822283922.jpg', './boar\\\\2934558298.jpg', './boar\\\\29440517554.jpg', './boar\\\\2944458060.jpg', './boar\\\\2965285273.jpg', './boar\\\\2971556227.jpg', './boar\\\\2972302016.jpg', './boar\\\\301144230.jpg', './boar\\\\3045961833.jpg', './boar\\\\3115348037.jpg', './boar\\\\31530317674.jpg', './boar\\\\3169323326.jpg', './boar\\\\31844471567.jpg', './boar\\\\32054832037.jpg', './boar\\\\32065677637.jpg', './boar\\\\3223050693.jpg', './boar\\\\32631589427.jpg', './boar\\\\32724665486.jpg', './boar\\\\32762373294.jpg', './boar\\\\32874034037.jpg', './boar\\\\3326015800.jpg', './boar\\\\33638628143.jpg', './boar\\\\33750952306.jpg', './boar\\\\3378445040.jpg', './boar\\\\3391137036.jpg', './boar\\\\33913264725.jpg', './boar\\\\34018330104.jpg', './boar\\\\34073146.jpg', './boar\\\\34122794.jpg', './boar\\\\34390786506.jpg', './boar\\\\34639747463.jpg', './boar\\\\3467282091.jpg', './boar\\\\34867664093.jpg', './boar\\\\35443703350.jpg', './boar\\\\35829408365.jpg', './boar\\\\3617970644.jpg', './boar\\\\3638097597.jpg', './boar\\\\3646444597.jpg', './boar\\\\36687835134.jpg', './boar\\\\3682802710.jpg', './boar\\\\37622831184.jpg', './boar\\\\37991961845.jpg', './boar\\\\3884485689.jpg', './boar\\\\39026398775.jpg', './boar\\\\39558130835.jpg', './boar\\\\39665798154.jpg', './boar\\\\39813832013.jpg', './boar\\\\39940418441.jpg', './boar\\\\39940418451.jpg', './boar\\\\39951222355.jpg', './boar\\\\39961680935.jpg', './boar\\\\40058786945.jpg', './boar\\\\4014517345.jpg', './boar\\\\40207717144.jpg', './boar\\\\40245453084.jpg', './boar\\\\40321882623.jpg', './boar\\\\40344600965.jpg', './boar\\\\40411120672.jpg', './boar\\\\4063687080.jpg', './boar\\\\40677473723.jpg', './boar\\\\40830550363.jpg', './boar\\\\40923337891.jpg', './boar\\\\4092635987.jpg', './boar\\\\4225930417.jpg', './boar\\\\4276522090.jpg', './boar\\\\42924591605.jpg', './boar\\\\430096810.jpg', './boar\\\\43132802040.jpg', './boar\\\\44105321494.jpg', './boar\\\\44350785111.jpg', './boar\\\\44430804514.jpg', './boar\\\\456462100.jpg', './boar\\\\46090918824.jpg', './boar\\\\46353152245.jpg', './boar\\\\465309497.jpg', './boar\\\\465341260.jpg', './boar\\\\4698151472.jpg', './boar\\\\4721877624.jpg', './boar\\\\47584470682.jpg', './boar\\\\4861492192.jpg', './boar\\\\4865070314.jpg', './boar\\\\4865070782.jpg', './boar\\\\4896526816.jpg', './boar\\\\5104750989.jpg', './boar\\\\5143241294.jpg', './boar\\\\5292604483.jpg', './boar\\\\5294290073.jpg', './boar\\\\5349646129.jpg', './boar\\\\5350298138.jpg', './boar\\\\5402646657.jpg', './boar\\\\5422858023.jpg', './boar\\\\5438972423.jpg', './boar\\\\5653424082.jpg', './boar\\\\5707290969.jpg', './boar\\\\5869384904.jpg', './boar\\\\5896894178.jpg', './boar\\\\5986007478.jpg', './boar\\\\5993639272.jpg', './boar\\\\6165466693.jpg', './boar\\\\6389973395.jpg', './boar\\\\6424041891.jpg', './boar\\\\6424053067.jpg', './boar\\\\64635188.jpg', './boar\\\\6795695988.jpg', './boar\\\\6852247927.jpg', './boar\\\\685426115.jpg', './boar\\\\6919709002.jpg', './boar\\\\7558347284.jpg', './boar\\\\75968726.jpg', './boar\\\\7669238278.jpg', './boar\\\\7669242234.jpg', './boar\\\\7908226970.jpg', './boar\\\\7992975719.jpg', './boar\\\\8090777679.jpg', './boar\\\\8127730075.jpg', './boar\\\\8196889365.jpg', './boar\\\\8220085497.jpg', './boar\\\\8411031334.jpg', './boar\\\\8482682396.jpg', './boar\\\\8541246595.jpg', './boar\\\\8672246285.jpg', './boar\\\\9261225653.jpg', './boar\\\\9487537122.jpg', './boar\\\\95324248.jpg', './boar\\\\9535090776.jpg', './boar\\\\9535389857.jpg', './boar\\\\9585962243.jpg', './boar\\\\9586153378.jpg', './boar\\\\9703427451.jpg']\n",
      "['./crow\\\\11279455313.jpg', './crow\\\\12143358653.jpg', './crow\\\\13451539784.jpg', './crow\\\\13904035934.jpg', './crow\\\\14065273403.jpg', './crow\\\\14181801516.jpg', './crow\\\\14243371425.jpg', './crow\\\\14553225942.jpg', './crow\\\\14558511022.jpg', './crow\\\\14678276452.jpg', './crow\\\\14692252096.jpg', './crow\\\\14910090539.jpg', './crow\\\\15007642452.jpg', './crow\\\\15157832296.jpg', './crow\\\\15748317735.jpg', './crow\\\\16042593908.jpg', './crow\\\\16095776803.jpg', './crow\\\\16199693254.jpg', './crow\\\\16234224078.jpg', './crow\\\\16261349726.jpg', './crow\\\\16330541899.jpg', './crow\\\\16482230305.jpg', './crow\\\\16609105497.jpg', './crow\\\\16613049932.jpg', './crow\\\\16646698997.jpg', './crow\\\\17415125745.jpg', './crow\\\\17502409541.jpg', './crow\\\\186395245.jpg', './crow\\\\1932198145.jpg', './crow\\\\2090994316.jpg', './crow\\\\2267118758.jpg', './crow\\\\2293188979.jpg', './crow\\\\2294502842.jpg', './crow\\\\2308307869.jpg', './crow\\\\2351846879.jpg', './crow\\\\2371495289.jpg', './crow\\\\2432010024.jpg', './crow\\\\2498181890.jpg', './crow\\\\2522627199.jpg', './crow\\\\25266838277.jpg', './crow\\\\2554496264.jpg', './crow\\\\25671662503.jpg', './crow\\\\2620076886.jpg', './crow\\\\26250057477.jpg', './crow\\\\264038552.jpg', './crow\\\\26908456487.jpg', './crow\\\\27184269466.jpg', './crow\\\\27184278806.jpg', './crow\\\\27235927632.jpg', './crow\\\\27262630451.jpg', './crow\\\\274510282.jpg', './crow\\\\274510304.jpg', './crow\\\\27936150269.jpg', './crow\\\\2875340656.jpg', './crow\\\\2875376887.jpg', './crow\\\\2876566233.jpg', './crow\\\\29193778640.jpg', './crow\\\\29309821767.jpg', './crow\\\\2940630197.jpg', './crow\\\\3027941275.jpg', './crow\\\\3035664774.jpg', './crow\\\\3081551843.jpg', './crow\\\\3107708726.jpg', './crow\\\\31390594227.jpg', './crow\\\\31783639498.jpg', './crow\\\\32080408867.jpg', './crow\\\\32131361368.jpg', './crow\\\\32270079987.jpg', './crow\\\\32319591147.jpg', './crow\\\\3246622872.jpg', './crow\\\\3247033001.jpg', './crow\\\\32645167123.jpg', './crow\\\\3272073445.jpg', './crow\\\\32744185598.jpg', './crow\\\\32902521656.jpg', './crow\\\\33037180918.jpg', './crow\\\\33147715922.jpg', './crow\\\\33151482478.jpg', './crow\\\\33263012021.jpg', './crow\\\\33441928850.jpg', './crow\\\\33589783165.jpg', './crow\\\\33644402220.jpg', './crow\\\\33935284018.jpg', './crow\\\\34044996545.jpg', './crow\\\\34051237166.jpg', './crow\\\\34615573415.jpg', './crow\\\\34756936031.jpg', './crow\\\\34814091453.jpg', './crow\\\\34972316060.jpg', './crow\\\\3515269705.jpg', './crow\\\\35282341480.jpg', './crow\\\\353285659.jpg', './crow\\\\35507311414.jpg', './crow\\\\35677918705.jpg', './crow\\\\35751879385.jpg', './crow\\\\3610313701.jpg', './crow\\\\36120414386.jpg', './crow\\\\36348856730.jpg', './crow\\\\36565822764.jpg', './crow\\\\37080985702.jpg', './crow\\\\3713304281.jpg', './crow\\\\37392582805.jpg', './crow\\\\37414876794.jpg', './crow\\\\37838895895.jpg', './crow\\\\38279016696.jpg', './crow\\\\38364457226.jpg', './crow\\\\38803835741.jpg', './crow\\\\38956458211.jpg', './crow\\\\39108861672.jpg', './crow\\\\3973840575.jpg', './crow\\\\40023351032.jpg', './crow\\\\40036458421.jpg', './crow\\\\40340261784.jpg', './crow\\\\40359543633.jpg', './crow\\\\40567556102.jpg', './crow\\\\40573656965.jpg', './crow\\\\4058758773.jpg', './crow\\\\40598568712.jpg', './crow\\\\40604303653.jpg', './crow\\\\40622133463.jpg', './crow\\\\40752047032.jpg', './crow\\\\41314413915.jpg', './crow\\\\41741025660.jpg', './crow\\\\41867949131.jpg', './crow\\\\41927539235.jpg', './crow\\\\42322841692.jpg', './crow\\\\42399648292.jpg', './crow\\\\42614268845.jpg', './crow\\\\42730933611.jpg', './crow\\\\4401165227.jpg', './crow\\\\4422737412.jpg', './crow\\\\44318008470.jpg', './crow\\\\44321218034.jpg', './crow\\\\45106588364.jpg', './crow\\\\45262091765.jpg', './crow\\\\45365576551.jpg', './crow\\\\4540998821.jpg', './crow\\\\4540999185.jpg', './crow\\\\4541631100.jpg', './crow\\\\4541632368.jpg', './crow\\\\45574335115.jpg', './crow\\\\45587964332.jpg', './crow\\\\45961208055.jpg', './crow\\\\4631643994.jpg', './crow\\\\4635557001.jpg', './crow\\\\4638834456.jpg', './crow\\\\46409657905.jpg', './crow\\\\46439958225.jpg', './crow\\\\4649061579.jpg', './crow\\\\46797465501.jpg', './crow\\\\46853702351.jpg', './crow\\\\46954466175.jpg', './crow\\\\4697865100.jpg', './crow\\\\4716938246.jpg', './crow\\\\47272035472.jpg', './crow\\\\47272036932.jpg', './crow\\\\4739983358.jpg', './crow\\\\47463899162.jpg', './crow\\\\47572324291.jpg', './crow\\\\47680931361.jpg', './crow\\\\47847131702.jpg', './crow\\\\4876234463.jpg', './crow\\\\4966901382.jpg', './crow\\\\5062009208.jpg', './crow\\\\5096024863.jpg', './crow\\\\5102246699.jpg', './crow\\\\5108316676.jpg', './crow\\\\5108321346.jpg', './crow\\\\5110567227.jpg', './crow\\\\5120645874.jpg', './crow\\\\5129299529.jpg', './crow\\\\5134463765.jpg', './crow\\\\516044510.jpg', './crow\\\\52537862.jpg', './crow\\\\5311520892.jpg', './crow\\\\534235381.jpg', './crow\\\\536389120.jpg', './crow\\\\5426526809.jpg', './crow\\\\5434089001.jpg', './crow\\\\5496254513.jpg', './crow\\\\5527052534.jpg', './crow\\\\5560191771.jpg', './crow\\\\5567558218.jpg', './crow\\\\5843792280.jpg', './crow\\\\5844215322.jpg', './crow\\\\5853405912.jpg', './crow\\\\5868010825.jpg', './crow\\\\5970241772.jpg', './crow\\\\6003208029.jpg', './crow\\\\6087757432.jpg', './crow\\\\6106613510.jpg', './crow\\\\6124649140.jpg', './crow\\\\6175929974.jpg', './crow\\\\6196579444.jpg', './crow\\\\6306494049.jpg', './crow\\\\6666652081.jpg', './crow\\\\6768849057.jpg', './crow\\\\6929476141.jpg', './crow\\\\6957538604.jpg', './crow\\\\6959620831.jpg', './crow\\\\6963296886.jpg', './crow\\\\7107219449.jpg', './crow\\\\7195106608.jpg', './crow\\\\7210680278.jpg', './crow\\\\7218757350.jpg', './crow\\\\7511109114.jpg', './crow\\\\8103496313.jpg', './crow\\\\8136883323.jpg', './crow\\\\8136897309.jpg', './crow\\\\8136900557.jpg', './crow\\\\8136904063.jpg', './crow\\\\8136907375.jpg', './crow\\\\8136910823.jpg', './crow\\\\8165465060.jpg', './crow\\\\8167944966.jpg', './crow\\\\8201550884.jpg', './crow\\\\8326738896.jpg', './crow\\\\8542838994.jpg', './crow\\\\8590767342.jpg', './crow\\\\8610037689.jpg', './crow\\\\8650125990.jpg', './crow\\\\8684977679.jpg', './crow\\\\87629204.jpg', './crow\\\\8915938391.jpg', './crow\\\\8915939637.jpg', './crow\\\\8981531231.jpg', './crow\\\\9046018861.jpg', './crow\\\\9098590897.jpg', './crow\\\\9346181822.jpg', './crow\\\\9380531117.jpg', './crow\\\\9540146786.jpg', './crow\\\\98343373.jpg']\n"
     ]
    }
   ],
   "source": [
    "from PIL import Image\n",
    "import os, glob #globはファイルの一覧取得\n",
    "import numpy as np\n",
    "from sklearn import model_selection\n",
    "\n",
    "classes = [\"monkey\", \"boar\", \"crow\"]\n",
    "num_classes = len(classes)\n",
    "image_size = 50\n",
    "\n",
    "#画像の読み込み\n",
    "X = []\n",
    "Y = []\n",
    "\n",
    "for index, classlabel in enumerate(classes):\n",
    "    photos_dir = \"./\" + classlabel\n",
    "    files = glob.glob(photos_dir + \"/*.jpg\")     #パターン一致ファイル一覧取得\n",
    "    for i, file in enumerate(files):\n",
    "        if i >= 188: break\n",
    "        image = Image.open(file)    #ファイルを開く\n",
    "        image = image.convert(\"RGB\")    #RGB値に変換\n",
    "        image = image.resize((image_size, image_size))  #冒頭で定義したimage_sizeにリサイズ\n",
    "        data = np.asarray(image)\n",
    "        X.append(data)\n",
    "        Y.append(index)\n",
    "\n",
    "#TensorFlowが扱いやすいデータ型に変換する\n",
    "X = np.array(X)\n",
    "Y = np.array(Y)"
   ]
  },
  {
   "cell_type": "code",
   "execution_count": 20,
   "metadata": {},
   "outputs": [
    {
     "data": {
      "text/plain": [
       "564"
      ]
     },
     "execution_count": 20,
     "metadata": {},
     "output_type": "execute_result"
    }
   ],
   "source": [
    "len(X)"
   ]
  },
  {
   "cell_type": "code",
   "execution_count": 27,
   "metadata": {},
   "outputs": [
    {
     "data": {
      "text/plain": [
       "0"
      ]
     },
     "execution_count": 27,
     "metadata": {},
     "output_type": "execute_result"
    }
   ],
   "source": []
  },
  {
   "cell_type": "code",
   "execution_count": null,
   "metadata": {},
   "outputs": [],
   "source": []
  }
 ],
 "metadata": {
  "kernelspec": {
   "display_name": "Python 3",
   "language": "python",
   "name": "python3"
  },
  "language_info": {
   "codemirror_mode": {
    "name": "ipython",
    "version": 3
   },
   "file_extension": ".py",
   "mimetype": "text/x-python",
   "name": "python",
   "nbconvert_exporter": "python",
   "pygments_lexer": "ipython3",
   "version": "3.6.9"
  }
 },
 "nbformat": 4,
 "nbformat_minor": 2
}
