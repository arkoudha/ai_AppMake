{
 "cells": [
  {
   "cell_type": "code",
   "execution_count": 4,
   "metadata": {},
   "outputs": [],
   "source": [
    "from PIL import Image\n",
    "import os, glob #globはファイルの一覧取得\n",
    "import numpy as np\n",
    "from sklearn import model_selection\n",
    "\n",
    "classes = [\"monkey\", \"boar\", \"crow\"]\n",
    "num_classes = len(classes)\n",
    "image_size = 50\n",
    "\n",
    "#画像の読み込み\n",
    "X = []\n",
    "Y = []\n",
    "\n",
    "for index, classlabel in enumerate(classes):\n",
    "    photos_dir = \"./\" + classlabel\n",
    "    files = glob.glob(photos_dir + \"/*.jpg\")     #パターン一致ファイル一覧取得\n",
    "    for i, file in enumerate(files):\n",
    "        if i >= 180: break\n",
    "        image = Image.open(file)    #ファイルを開く\n",
    "        image = image.convert(\"RGB\")    #RGB値に変換\n",
    "        image = image.resize((image_size, image_size))  #冒頭で定義したimage_sizeにリサイズ\n",
    "        data = np.asarray(image)\n",
    "        X.append(data)\n",
    "        Y.append(index)\n",
    "\n",
    "#TensorFlowが扱いやすいデータ型に変換する\n",
    "X = np.array(X)\n",
    "Y = np.array(Y)\n",
    "\n",
    "X_train, X_test, y_train, y_test = model_selection.train_test_split(X, Y)\n",
    "xy = (X_train, X_test, y_train, y_test)\n",
    "np.save(\"./animal.npy\", xy)"
   ]
  },
  {
   "cell_type": "code",
   "execution_count": 7,
   "metadata": {},
   "outputs": [
    {
     "data": {
      "text/plain": [
       "540"
      ]
     },
     "execution_count": 7,
     "metadata": {},
     "output_type": "execute_result"
    }
   ],
   "source": [
    "len(X)"
   ]
  },
  {
   "cell_type": "code",
   "execution_count": 8,
   "metadata": {},
   "outputs": [
    {
     "data": {
      "text/plain": [
       "405"
      ]
     },
     "execution_count": 8,
     "metadata": {},
     "output_type": "execute_result"
    }
   ],
   "source": [
    "len(X_train)"
   ]
  },
  {
   "cell_type": "code",
   "execution_count": 9,
   "metadata": {},
   "outputs": [
    {
     "data": {
      "text/plain": [
       "135"
      ]
     },
     "execution_count": 9,
     "metadata": {},
     "output_type": "execute_result"
    }
   ],
   "source": [
    "len(X_test)"
   ]
  },
  {
   "cell_type": "code",
   "execution_count": 10,
   "metadata": {},
   "outputs": [
    {
     "data": {
      "text/plain": [
       "array([[[ 10,   9,   5],\n",
       "        [  0,   5,   3],\n",
       "        [ 26,  50,  78],\n",
       "        ...,\n",
       "        [176, 155, 136],\n",
       "        [158, 148, 139],\n",
       "        [150, 133, 126]],\n",
       "\n",
       "       [[  6,   6,   8],\n",
       "        [ 44,  44,  46],\n",
       "        [117, 116, 130],\n",
       "        ...,\n",
       "        [ 11,  13,  10],\n",
       "        [144, 143, 138],\n",
       "        [ 65,  64,  62]],\n",
       "\n",
       "       [[  4,   3,   1],\n",
       "        [  6,   6,   0],\n",
       "        [164, 158, 132],\n",
       "        ...,\n",
       "        [ 57,  72,  79],\n",
       "        [109, 118, 115],\n",
       "        [ 71,  74,  79]],\n",
       "\n",
       "       ...,\n",
       "\n",
       "       [[ 94,  55,  12],\n",
       "        [ 86,  51,  21],\n",
       "        [ 68,  52,  26],\n",
       "        ...,\n",
       "        [  5,   4,   0],\n",
       "        [  6,   5,   1],\n",
       "        [  7,   6,   4]],\n",
       "\n",
       "       [[ 42,  30,   8],\n",
       "        [ 45,  28,  18],\n",
       "        [ 44,  32,  18],\n",
       "        ...,\n",
       "        [  3,   4,   0],\n",
       "        [  6,   5,   3],\n",
       "        [  3,   2,   0]],\n",
       "\n",
       "       [[ 70,  47,  15],\n",
       "        [ 54,  29,   9],\n",
       "        [ 80,  47,  16],\n",
       "        ...,\n",
       "        [  9,   0,   1],\n",
       "        [  4,   3,   0],\n",
       "        [  9,   8,   4]]], dtype=uint8)"
      ]
     },
     "execution_count": 10,
     "metadata": {},
     "output_type": "execute_result"
    }
   ],
   "source": [
    "X_train[100]"
   ]
  },
  {
   "cell_type": "code",
   "execution_count": null,
   "metadata": {},
   "outputs": [],
   "source": []
  }
 ],
 "metadata": {
  "kernelspec": {
   "display_name": "Python 3",
   "language": "python",
   "name": "python3"
  },
  "language_info": {
   "codemirror_mode": {
    "name": "ipython",
    "version": 3
   },
   "file_extension": ".py",
   "mimetype": "text/x-python",
   "name": "python",
   "nbconvert_exporter": "python",
   "pygments_lexer": "ipython3",
   "version": "3.6.9"
  }
 },
 "nbformat": 4,
 "nbformat_minor": 2
}
